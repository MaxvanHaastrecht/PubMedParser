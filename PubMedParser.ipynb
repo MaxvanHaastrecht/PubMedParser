{
 "cells": [
  {
   "cell_type": "markdown",
   "metadata": {},
   "source": [
    "## Read PubMed text export"
   ]
  },
  {
   "cell_type": "markdown",
   "metadata": {},
   "source": [
    "Steps to get the relevant PubMed export:\n",
    "+ Go to [PubMed](https://pubmed.ncbi.nlm.nih.gov/)\n",
    "+ Type in your (advanced) search\n",
    "+ Click 'Save'\n",
    "+ In 'Selection' select 'All results'\n",
    "+ In 'Format' select 'PubMed'\n",
    "+ Click 'Create file'\n",
    "\n",
    "You should now have a text file in your downloads folder. Store it, for example, in the folder of this Python Notebook."
   ]
  },
  {
   "cell_type": "code",
   "execution_count": null,
   "metadata": {},
   "outputs": [],
   "source": [
    "import pandas as pd\n",
    "\n",
    "filename = 'pubmed-NLPTitleAb-set.txt' # Change filename to match your file!\n",
    "\n",
    "df = pd.read_csv(filename, sep='\\n', header=None)\n",
    "df.head()"
   ]
  },
  {
   "cell_type": "markdown",
   "metadata": {},
   "source": [
    "## Loop through records and extract abstract"
   ]
  },
  {
   "cell_type": "code",
   "execution_count": null,
   "metadata": {},
   "outputs": [],
   "source": [
    "# Keep track of keywords and abstracts\n",
    "keyword_list = []\n",
    "abstract_list = []\n",
    "\n",
    "keywords = ''\n",
    "abstract = ''\n",
    "for index, element in enumerate(df[0]):\n",
    "    # Enumerate all rows\n",
    "    if element[0:2] == 'AB':\n",
    "        # Add to the abstract string\n",
    "        abstract += element[6:]\n",
    "        counter = 1\n",
    "        while True:\n",
    "            new_element = df[0][index + counter]\n",
    "            if new_element[0:4] != '    ':\n",
    "                break\n",
    "            else:\n",
    "                abstract += new_element[6:]\n",
    "                counter += 1\n",
    "                \n",
    "\n",
    "    elif element[0:3] == 'OT ':\n",
    "        # Add to the keyword string, 6 if no *, 7 if *\n",
    "        if element[6] == '*':\n",
    "            keywords += ' | ' + element[7:]\n",
    "        else:\n",
    "            keywords += ' | ' + element[6:]\n",
    "            \n",
    "    elif element[0:4] == 'PMID' and index > 0:\n",
    "        # If no abstract, add empty fields\n",
    "        if len(abstract) == 0:\n",
    "            keyword_list.append('EMPTY')\n",
    "            abstract_list.append('EMPTY')\n",
    "        else:\n",
    "            # New publication, append keywords and abstract and clear\n",
    "            keyword_list.append(keywords[3:])\n",
    "            abstract_list.append(abstract)\n",
    "            \n",
    "        keywords = ''\n",
    "        abstract = ''\n",
    "\n",
    "# Append last keywords and abstract\n",
    "keyword_list.append(keywords)\n",
    "abstract_list.append(abstract)\n",
    "\n",
    "print('Looped through records and found ' + str(len(keyword_list)) + ' abstracts.')"
   ]
  },
  {
   "cell_type": "markdown",
   "metadata": {},
   "source": [
    "Check if the number of abstracts in the line above is what you expected. It could be that some papers do not have abstracts, but it could also be that something went wrong in the code."
   ]
  },
  {
   "cell_type": "markdown",
   "metadata": {},
   "source": [
    "## Export Abstract & Keywords to CSV"
   ]
  },
  {
   "cell_type": "code",
   "execution_count": null,
   "metadata": {},
   "outputs": [],
   "source": [
    "result_df = pd.DataFrame({'abstract': abstract_list, 'keywords': keyword_list})\n",
    "\n",
    "result_df.to_csv('PubMedQueryAdditions.csv', index=False, encoding='utf-8')"
   ]
  },
  {
   "cell_type": "markdown",
   "metadata": {},
   "source": [
    "You now have the abstracts of your search results available and are ready for title and abstract screening!"
   ]
  }
 ],
 "metadata": {
  "kernelspec": {
   "display_name": "Python 3",
   "language": "python",
   "name": "python3"
  },
  "language_info": {
   "codemirror_mode": {
    "name": "ipython",
    "version": 3
   },
   "file_extension": ".py",
   "mimetype": "text/x-python",
   "name": "python",
   "nbconvert_exporter": "python",
   "pygments_lexer": "ipython3",
   "version": "3.7.11"
  }
 },
 "nbformat": 4,
 "nbformat_minor": 4
}
